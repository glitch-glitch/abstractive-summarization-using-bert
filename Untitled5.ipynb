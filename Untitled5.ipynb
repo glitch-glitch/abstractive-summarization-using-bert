{
 "cells": [
  {
   "cell_type": "code",
   "execution_count": 12,
   "id": "d278aa8c",
   "metadata": {},
   "outputs": [
    {
     "name": "stdout",
     "output_type": "stream",
     "text": [
      "transformers version: 4.24.0\n",
      "tensorflow version: 2.10.0\n"
     ]
    }
   ],
   "source": [
    "import pandas as pd \n",
    "import numpy as np\n",
    "import tensorflow as tf\n",
    "import matplotlib.pyplot as plt\n",
    "import transformers\n",
    "from transformers import BertTokenizerFast, RobertaTokenizerFast, TFEncoderDecoderModel, AdamWeightDecay\n",
    "from sklearn.model_selection import train_test_split\n",
    "\n",
    "from tqdm.notebook import tqdm\n",
    "from tensorflow.python.ops.numpy_ops import np_config\n",
    "from pprint import pprint\n",
    "\"\"\n",
    "# enable model saving at eager mode\n",
    "np_config.enable_numpy_behavior()\n",
    "print('transformers version:', transformers.__version__)\n",
    "print('tensorflow version:', tf.__version__)"
   ]
  },
  {
   "cell_type": "code",
   "execution_count": 9,
   "id": "7b74ab0b",
   "metadata": {},
   "outputs": [
    {
     "name": "stdout",
     "output_type": "stream",
     "text": [
      "Collecting dill==0.3.6\n",
      "  Using cached dill-0.3.6-py3-none-any.whl (110 kB)\n",
      "Installing collected packages: dill\n",
      "  Attempting uninstall: dill\n",
      "    Found existing installation: dill 0.2.8\n",
      "    Uninstalling dill-0.2.8:\n",
      "      Successfully uninstalled dill-0.2.8\n",
      "Successfully installed dill-0.3.6\n"
     ]
    }
   ],
   "source": [
    "! pip install dill==0.3.6"
   ]
  },
  {
   "cell_type": "code",
   "execution_count": 13,
   "id": "ca497873",
   "metadata": {},
   "outputs": [],
   "source": [
    "df_reviews=pd.read_csv(\"Reviews.csv\")"
   ]
  },
  {
   "cell_type": "code",
   "execution_count": 15,
   "id": "421cf6ba",
   "metadata": {},
   "outputs": [
    {
     "data": {
      "text/html": [
       "<div>\n",
       "<style scoped>\n",
       "    .dataframe tbody tr th:only-of-type {\n",
       "        vertical-align: middle;\n",
       "    }\n",
       "\n",
       "    .dataframe tbody tr th {\n",
       "        vertical-align: top;\n",
       "    }\n",
       "\n",
       "    .dataframe thead th {\n",
       "        text-align: right;\n",
       "    }\n",
       "</style>\n",
       "<table border=\"1\" class=\"dataframe\">\n",
       "  <thead>\n",
       "    <tr style=\"text-align: right;\">\n",
       "      <th></th>\n",
       "      <th>Id</th>\n",
       "      <th>ProductId</th>\n",
       "      <th>UserId</th>\n",
       "      <th>ProfileName</th>\n",
       "      <th>HelpfulnessNumerator</th>\n",
       "      <th>HelpfulnessDenominator</th>\n",
       "      <th>Score</th>\n",
       "      <th>Time</th>\n",
       "      <th>Summary</th>\n",
       "      <th>Text</th>\n",
       "    </tr>\n",
       "  </thead>\n",
       "  <tbody>\n",
       "    <tr>\n",
       "      <th>0</th>\n",
       "      <td>1</td>\n",
       "      <td>B001E4KFG0</td>\n",
       "      <td>A3SGXH7AUHU8GW</td>\n",
       "      <td>delmartian</td>\n",
       "      <td>1</td>\n",
       "      <td>1</td>\n",
       "      <td>5</td>\n",
       "      <td>1303862400</td>\n",
       "      <td>Good Quality Dog Food</td>\n",
       "      <td>I have bought several of the Vitality canned d...</td>\n",
       "    </tr>\n",
       "    <tr>\n",
       "      <th>1</th>\n",
       "      <td>2</td>\n",
       "      <td>B00813GRG4</td>\n",
       "      <td>A1D87F6ZCVE5NK</td>\n",
       "      <td>dll pa</td>\n",
       "      <td>0</td>\n",
       "      <td>0</td>\n",
       "      <td>1</td>\n",
       "      <td>1346976000</td>\n",
       "      <td>Not as Advertised</td>\n",
       "      <td>Product arrived labeled as Jumbo Salted Peanut...</td>\n",
       "    </tr>\n",
       "    <tr>\n",
       "      <th>2</th>\n",
       "      <td>3</td>\n",
       "      <td>B000LQOCH0</td>\n",
       "      <td>ABXLMWJIXXAIN</td>\n",
       "      <td>Natalia Corres \"Natalia Corres\"</td>\n",
       "      <td>1</td>\n",
       "      <td>1</td>\n",
       "      <td>4</td>\n",
       "      <td>1219017600</td>\n",
       "      <td>\"Delight\" says it all</td>\n",
       "      <td>This is a confection that has been around a fe...</td>\n",
       "    </tr>\n",
       "    <tr>\n",
       "      <th>3</th>\n",
       "      <td>4</td>\n",
       "      <td>B000UA0QIQ</td>\n",
       "      <td>A395BORC6FGVXV</td>\n",
       "      <td>Karl</td>\n",
       "      <td>3</td>\n",
       "      <td>3</td>\n",
       "      <td>2</td>\n",
       "      <td>1307923200</td>\n",
       "      <td>Cough Medicine</td>\n",
       "      <td>If you are looking for the secret ingredient i...</td>\n",
       "    </tr>\n",
       "    <tr>\n",
       "      <th>4</th>\n",
       "      <td>5</td>\n",
       "      <td>B006K2ZZ7K</td>\n",
       "      <td>A1UQRSCLF8GW1T</td>\n",
       "      <td>Michael D. Bigham \"M. Wassir\"</td>\n",
       "      <td>0</td>\n",
       "      <td>0</td>\n",
       "      <td>5</td>\n",
       "      <td>1350777600</td>\n",
       "      <td>Great taffy</td>\n",
       "      <td>Great taffy at a great price.  There was a wid...</td>\n",
       "    </tr>\n",
       "  </tbody>\n",
       "</table>\n",
       "</div>"
      ],
      "text/plain": [
       "   Id   ProductId          UserId                      ProfileName  \\\n",
       "0   1  B001E4KFG0  A3SGXH7AUHU8GW                       delmartian   \n",
       "1   2  B00813GRG4  A1D87F6ZCVE5NK                           dll pa   \n",
       "2   3  B000LQOCH0   ABXLMWJIXXAIN  Natalia Corres \"Natalia Corres\"   \n",
       "3   4  B000UA0QIQ  A395BORC6FGVXV                             Karl   \n",
       "4   5  B006K2ZZ7K  A1UQRSCLF8GW1T    Michael D. Bigham \"M. Wassir\"   \n",
       "\n",
       "   HelpfulnessNumerator  HelpfulnessDenominator  Score        Time  \\\n",
       "0                     1                       1      5  1303862400   \n",
       "1                     0                       0      1  1346976000   \n",
       "2                     1                       1      4  1219017600   \n",
       "3                     3                       3      2  1307923200   \n",
       "4                     0                       0      5  1350777600   \n",
       "\n",
       "                 Summary                                               Text  \n",
       "0  Good Quality Dog Food  I have bought several of the Vitality canned d...  \n",
       "1      Not as Advertised  Product arrived labeled as Jumbo Salted Peanut...  \n",
       "2  \"Delight\" says it all  This is a confection that has been around a fe...  \n",
       "3         Cough Medicine  If you are looking for the secret ingredient i...  \n",
       "4            Great taffy  Great taffy at a great price.  There was a wid...  "
      ]
     },
     "execution_count": 15,
     "metadata": {},
     "output_type": "execute_result"
    }
   ],
   "source": [
    "df_reviews.head()"
   ]
  },
  {
   "cell_type": "code",
   "execution_count": 16,
   "id": "e59e2d14",
   "metadata": {},
   "outputs": [],
   "source": [
    "df_reviews.drop_duplicates(subset=['UserId','Text'], inplace=True)\n",
    "df_reviews.dropna(subset=['Summary'], inplace=True)\n",
    "df_reviews.reset_index(inplace=True)"
   ]
  },
  {
   "cell_type": "code",
   "execution_count": 18,
   "id": "a60e32e3",
   "metadata": {},
   "outputs": [],
   "source": [
    "df_reviews.to_pickle('df.pkl')"
   ]
  },
  {
   "cell_type": "code",
   "execution_count": 19,
   "id": "b84a38bb",
   "metadata": {},
   "outputs": [
    {
     "data": {
      "text/plain": [
       "Text(0.5, 1.0, 'Histogram of length of tokenized summary')"
      ]
     },
     "execution_count": 19,
     "metadata": {},
     "output_type": "execute_result"
    },
    {
     "data": {
      "image/png": "[encoded data removed]",
      "text/plain": [
       "<Figure size 1152x360 with 2 Axes>"
      ]
     },
     "metadata": {
      "needs_background": "light"
     },
     "output_type": "display_data"
    }
   ],
   "source": [
    "df_reviews = pd.read_pickle('df.pkl')\n",
    "df_reviews_sampled = df_reviews.copy()\n",
    "# sampling n pairs of reviews and summarizies on shuffled dataframe\n",
    "df_reviews_sampled = df_reviews_sampled.iloc[:40000, :]\n",
    "df_reviews_sampled['text_len'] = df_reviews_sampled['Text'].apply(lambda x: len(x.split()))\n",
    "df_reviews_sampled['summary_len'] = df_reviews_sampled['Summary'].apply(lambda x: len(x.split()))\n",
    "fig, ax = plt.subplots(nrows=1, ncols=2, figsize=(16,5))\n",
    "ax[0].hist(df_reviews_sampled['text_len'])\n",
    "ax[0].set_xticks(np.arange(0, max(df_reviews_sampled['text_len'])+1,250))\n",
    "ax[0].set_title('Histogram of length of tokenized text')\n",
    "ax[1].hist(df_reviews_sampled['summary_len'], color='yellow')\n",
    "ax[1].set_xticks(np.arange(0, max(df_reviews_sampled['summary_len'])+1,5))\n",
    "ax[1].set_title('Histogram of length of tokenized summary')"
   ]
  },
  {
   "cell_type": "code",
   "execution_count": 20,
   "id": "122387d7",
   "metadata": {},
   "outputs": [],
   "source": [
    "class TrainingConfig:\n",
    "    val_split = 0.2\n",
    "    pretrained_checkpoint = 'bert-base-uncased'\n",
    "    encoder_checkpoint = 'bert-base-uncased'\n",
    "    decoder_checkpoint = 'bert-base-uncased'\n",
    "    pad_token_id = 0\n",
    "    shared_weight = False\n",
    "    encoder_max_len = 256 \n",
    "    decoder_max_len = 30 \n",
    "    nb_epoch = 3 \n",
    "    learning_rate = 3e-5 \n",
    "    batch_size = 8 \n",
    "    \n",
    "    def __init__(self, **kwargs):\n",
    "        for k,v in kwargs.items():\n",
    "            setattr(self, k, v)"
   ]
  },
  {
   "cell_type": "code",
   "execution_count": 21,
   "id": "c9340a94",
   "metadata": {},
   "outputs": [],
   "source": [
    "class DataLoader:\n",
    "    def __init__(self, paragraphs, summaries, **kwargs):\n",
    "        self.paragraphs = paragraphs \n",
    "        self.summaries = summaries \n",
    "        self.tokenizer = kwargs.get('tokenizer')\n",
    "        self.val_split = kwargs.get('val_split')\n",
    "        self.encoder_max_len = kwargs.get('encoder_max_len')\n",
    "        self.decoder_max_len = kwargs.get('decoder_max_len')\n",
    "    \n",
    "    @property\n",
    "    def sample_size(self):\n",
    "        assert len(self.paragraphs)==len(self.summaries)\n",
    "        return len(self.paragraphs)\n",
    "    \n",
    "    def split_train_test(self):\n",
    "        train_idx, val_idx = train_test_split(\n",
    "            list(range(self.sample_size)), \n",
    "            test_size=self.val_split, \n",
    "            random_state=98\n",
    "        )\n",
    "        return train_idx, val_idx\n",
    "    \n",
    "    def convert_text_to_ids(self, input_paragraphs, input_summaries):\n",
    "        inputs = self.tokenizer(\n",
    "            list(input_paragraphs), \n",
    "            return_tensors='np', \n",
    "            padding='max_length', \n",
    "            truncation=True, \n",
    "            max_length=self.encoder_max_len\n",
    "        )\n",
    "        outputs = self.tokenizer(\n",
    "            list(input_summaries), \n",
    "            return_tensors='np', \n",
    "            padding='max_length', \n",
    "            truncation=True, \n",
    "            max_length=self.decoder_max_len\n",
    "        )\n",
    "        return inputs, outputs\n",
    "    \n",
    "    def list_to_tensor_dataset(self, input_paragraphs, input_summaries):\n",
    "        inputs, outputs = self.convert_text_to_ids(\n",
    "            input_paragraphs, \n",
    "            input_summaries\n",
    "        )\n",
    "        input_ids = tf.data.Dataset.from_tensor_slices(\n",
    "            inputs['input_ids']\n",
    "        )\n",
    "        attention_masks = tf.data.Dataset.from_tensor_slices(\n",
    "            inputs['attention_mask']\n",
    "        )\n",
    "        output_ids = tf.data.Dataset.from_tensor_slices(\n",
    "            outputs['input_ids']\n",
    "        )\n",
    "        output_attention_masks = tf.data.Dataset.from_tensor_slices(\n",
    "            outputs['attention_mask']\n",
    "        )                                                \n",
    "        tf_dataset = tf.data.Dataset.zip(\n",
    "            ({\n",
    "                'input_ids': input_ids, \n",
    "                'attention_mask': attention_masks,\n",
    "                'decoder_input_ids': output_ids, \n",
    "                 'decoder_attention_mask': output_attention_masks\n",
    "            }, \n",
    "            output_ids)\n",
    "        )\n",
    "        return tf_dataset\n",
    "    \n",
    "    def __call__(self):\n",
    "        train_idx, val_idx = self.split_train_test()\n",
    "        train_paras, val_paras = self.paragraphs[train_idx], self.paragraphs[val_idx]\n",
    "        train_sums, val_sums = self.summaries[train_idx], self.summaries[val_idx]\n",
    "        train_dataset = self.list_to_tensor_dataset(train_paras, train_sums)\n",
    "        val_dataset = self.list_to_tensor_dataset(val_paras, val_sums)\n",
    "        return train_dataset, val_dataset"
   ]
  },
  {
   "cell_type": "code",
   "execution_count": 22,
   "id": "95d852a4",
   "metadata": {},
   "outputs": [],
   "source": [
    "class Seq2SeqLoss(tf.keras.losses.Loss):\n",
    "    def __init__(self, pad_token_id, name=\"seq2seq_loss\"):\n",
    "        super().__init__(name=name)\n",
    "        self.pad_token_id = pad_token_id\n",
    "\n",
    "    def call(self, y_true, y_pred):\n",
    "        loss_fn = tf.keras.losses.SparseCategoricalCrossentropy(\n",
    "            from_logits=True, \n",
    "            reduction=tf.keras.losses.Reduction.NONE\n",
    "        )\n",
    "        # shift the label and output sequences to match  \n",
    "        output_logits = y_pred[:,:-1,:]\n",
    "        input_labels = y_true[:,1:] \n",
    "        loss = loss_fn(input_labels, output_logits)\n",
    "        # calculate loss without the padding tokens in label sequence\n",
    "        mask = tf.cast((input_labels != self.pad_token_id), dtype=tf.float32)\n",
    "        loss = loss * mask\n",
    "        return tf.reduce_sum(loss) / tf.reduce_sum(mask)"
   ]
  },
  {
   "cell_type": "code",
   "execution_count": 23,
   "id": "0b4ad85c",
   "metadata": {},
   "outputs": [],
   "source": [
    "class Trainer:\n",
    "    def __init__(self, model, loss_fn, optimizer, metric):\n",
    "        self.model = model\n",
    "        self.loss_fn = loss_fn\n",
    "        self.optimizer = optimizer\n",
    "        self.metric = metric\n",
    "        # loss tracker will capture the mean of loss till now\n",
    "        self.loss_tracker = tf.keras.metrics.Mean(name='mean_loss')\n",
    "    \n",
    "    # Training Step\n",
    "    @tf.function \n",
    "    def train_step(self, inputs):\n",
    "        input_seqs, input_labels = inputs\n",
    "        with tf.GradientTape() as tape: \n",
    "            outputs = self.model(\n",
    "                input_seqs['input_ids'],\n",
    "                input_seqs['attention_mask'],\n",
    "                input_seqs['decoder_input_ids'],\n",
    "                input_seqs['decoder_attention_mask'],\n",
    "                training = True\n",
    "            )\n",
    "            logits = outputs.logits\n",
    "            loss = self.loss_fn(input_labels, logits)\n",
    "        gradients = tape.gradient(loss, self.model.trainable_weights)\n",
    "        self.optimizer.apply_gradients(\n",
    "            zip(gradients, self.model.trainable_weights)\n",
    "        )\n",
    "        self.loss_tracker.update_state(loss)\n",
    "#         self.metric.update_state(y, predictions)\n",
    "        return loss\n",
    "        \n",
    "    # Validation Step\n",
    "    @tf.function  \n",
    "    def val_step(self, inputs):\n",
    "        input_seqs, input_labels = inputs\n",
    "        outputs = self.model(                \n",
    "                input_seqs['input_ids'],\n",
    "                input_seqs['attention_mask'],\n",
    "                input_seqs['decoder_input_ids'],\n",
    "                input_seqs['decoder_attention_mask'],\n",
    "                training = False\n",
    "        )\n",
    "        logits = outputs.logits\n",
    "        loss = self.loss_fn(input_labels, logits)\n",
    "        self.loss_tracker.update_state(loss)\n",
    "#         self.metric.update_state(y,predictions)\n",
    "        return loss"
   ]
  },
  {
   "cell_type": "code",
   "execution_count": 24,
   "id": "593df379",
   "metadata": {},
   "outputs": [],
   "source": [
    "def batched_generate_summary(model, tokenizer, batched_input):\n",
    "    input_seqs, input_labels = batched_input\n",
    "    outputs = model.generate(\n",
    "        input_ids=input_seqs['input_ids'], \n",
    "        attention_mask=input_seqs['attention_mask']\n",
    "    )\n",
    "    output_strs = tokenizer.batch_decode(\n",
    "        outputs, \n",
    "        skip_special_tokens=True\n",
    "    )\n",
    "    output_gold = tokenizer.batch_decode(\n",
    "        input_seqs['decoder_input_ids'], \n",
    "        skip_special_tokens=True\n",
    "    )\n",
    "    input_strs = tokenizer.batch_decode(\n",
    "        input_seqs['input_ids'], \n",
    "        skip_special_tokens=True\n",
    "    )\n",
    "    return output_strs, output_gold, input_strs"
   ]
  },
  {
   "cell_type": "code",
   "execution_count": 25,
   "id": "c207ed95",
   "metadata": {},
   "outputs": [
    {
     "data": {
      "application/vnd.jupyter.widget-view+json": {
       "model_id": "d597e3ad37b84bc5af83d1199d09f2f8",
       "version_major": 2,
       "version_minor": 0
      },
      "text/plain": [
       "Downloading:   0%|          | 0.00/28.0 [00:00<?, ?B/s]"
      ]
     },
     "metadata": {},
     "output_type": "display_data"
    },
    {
     "name": "stderr",
     "output_type": "stream",
     "text": [
      "C:\\Users\\utkar_0x0wy73\\anaconda3\\lib\\site-packages\\huggingface_hub\\file_download.py:123: UserWarning: `huggingface_hub` cache-system uses symlinks by default to efficiently store duplicated files but your machine does not support them in C:\\Users\\utkar_0x0wy73\\.cache\\huggingface\\hub. Caching files will still work but in a degraded version that might require more space on your disk. This warning can be disabled by setting the `HF_HUB_DISABLE_SYMLINKS_WARNING` environment variable. For more details, see https://huggingface.co/docs/huggingface_hub/how-to-cache#limitations.\n",
      "To support symlinks on Windows, you either need to activate Developer Mode or to run Python as an administrator. In order to see activate developer mode, see this article: https://docs.microsoft.com/en-us/windows/apps/get-started/enable-your-device-for-development\n",
      "  warnings.warn(message)\n"
     ]
    },
    {
     "data": {
      "application/vnd.jupyter.widget-view+json": {
       "model_id": "3b906df4cac444c6a75b0f13901e9dc3",
       "version_major": 2,
       "version_minor": 0
      },
      "text/plain": [
       "Downloading:   0%|          | 0.00/232k [00:00<?, ?B/s]"
      ]
     },
     "metadata": {},
     "output_type": "display_data"
    },
    {
     "data": {
      "application/vnd.jupyter.widget-view+json": {
       "model_id": "872e159f47324b4d8a7abe7d3f31bc1a",
       "version_major": 2,
       "version_minor": 0
      },
      "text/plain": [
       "Downloading:   0%|          | 0.00/466k [00:00<?, ?B/s]"
      ]
     },
     "metadata": {},
     "output_type": "display_data"
    },
    {
     "data": {
      "application/vnd.jupyter.widget-view+json": {
       "model_id": "e34b423c2ec048318e57828289aba6ce",
       "version_major": 2,
       "version_minor": 0
      },
      "text/plain": [
       "Downloading:   0%|          | 0.00/570 [00:00<?, ?B/s]"
      ]
     },
     "metadata": {},
     "output_type": "display_data"
    }
   ],
   "source": [
    "reviews = df_reviews_sampled['Text'].values\n",
    "summaries = df_reviews_sampled['Summary'].values\n",
    "\n",
    "training_config = TrainingConfig(nb_epoch=5)\n",
    "tokenizer = BertTokenizerFast.from_pretrained(training_config.encoder_checkpoint)\n",
    "\n",
    "dataloader_args = {\n",
    "    'tokenizer': tokenizer,\n",
    "    'val_split': training_config.val_split,\n",
    "    'encoder_max_len': training_config.encoder_max_len,\n",
    "    'decoder_max_len': training_config.decoder_max_len\n",
    "}\n",
    "dataloader = DataLoader(reviews, summaries, **dataloader_args)\n",
    "train_dataset, val_dataset = dataloader()\n",
    "train_dataset = (train_dataset\n",
    "                 .shuffle(int(dataloader.sample_size*(1-training_config.val_split)))\n",
    "                 .batch(training_config.batch_size))\n",
    "val_dataset = val_dataset.batch(training_config.batch_size)"
   ]
  },
  {
   "cell_type": "code",
   "execution_count": 26,
   "id": "cc4d4ab6",
   "metadata": {},
   "outputs": [
    {
     "data": {
      "application/vnd.jupyter.widget-view+json": {
       "model_id": "3e366abe0a8b4542b8071cbec0bb8f9f",
       "version_major": 2,
       "version_minor": 0
      },
      "text/plain": [
       "Downloading:   0%|          | 0.00/536M [00:00<?, ?B/s]"
      ]
     },
     "metadata": {},
     "output_type": "display_data"
    },
    {
     "name": "stderr",
     "output_type": "stream",
     "text": [
      "Some layers from the model checkpoint at bert-base-uncased were not used when initializing TFBertModel: ['nsp___cls', 'mlm___cls']\n",
      "- This IS expected if you are initializing TFBertModel from the checkpoint of a model trained on another task or with another architecture (e.g. initializing a BertForSequenceClassification model from a BertForPreTraining model).\n",
      "- This IS NOT expected if you are initializing TFBertModel from the checkpoint of a model that you expect to be exactly identical (initializing a BertForSequenceClassification model from a BertForSequenceClassification model).\n",
      "All the layers of TFBertModel were initialized from the model checkpoint at bert-base-uncased.\n",
      "If your task is similar to the task the model of the checkpoint was trained on, you can already use TFBertModel for predictions without further training.\n",
      "All model checkpoint layers were used when initializing TFBertLMHeadModel.\n",
      "\n",
      "Some layers of TFBertLMHeadModel were not initialized from the model checkpoint at bert-base-uncased and are newly initialized: ['tf_encoder_decoder_model/bert/encoder/layer_._7/crossattention/output/dense/kernel:0', 'tf_encoder_decoder_model/bert/encoder/layer_._5/crossattention/output/LayerNorm/gamma:0', 'tf_encoder_decoder_model/bert/encoder/layer_._4/crossattention/self/key/bias:0', 'tf_encoder_decoder_model/bert/encoder/layer_._3/crossattention/self/query/kernel:0', 'tf_encoder_decoder_model/bert/encoder/layer_._10/crossattention/self/key/kernel:0', 'tf_encoder_decoder_model/bert/encoder/layer_._0/crossattention/output/LayerNorm/beta:0', 'tf_encoder_decoder_model/bert/encoder/layer_._9/crossattention/self/value/bias:0', 'tf_encoder_decoder_model/bert/encoder/layer_._8/crossattention/self/key/bias:0', 'tf_encoder_decoder_model/bert/encoder/layer_._0/crossattention/self/value/kernel:0', 'tf_encoder_decoder_model/bert/encoder/layer_._2/crossattention/self/key/bias:0', 'tf_encoder_decoder_model/bert/encoder/layer_._9/crossattention/output/LayerNorm/beta:0', 'tf_encoder_decoder_model/bert/encoder/layer_._3/crossattention/output/LayerNorm/beta:0', 'tf_encoder_decoder_model/bert/encoder/layer_._2/crossattention/output/dense/bias:0', 'tf_encoder_decoder_model/bert/encoder/layer_._7/crossattention/self/query/bias:0', 'tf_encoder_decoder_model/bert/encoder/layer_._8/crossattention/output/LayerNorm/gamma:0', 'tf_encoder_decoder_model/bert/encoder/layer_._5/crossattention/self/key/bias:0', 'tf_encoder_decoder_model/bert/encoder/layer_._7/crossattention/self/value/kernel:0', 'tf_encoder_decoder_model/bert/encoder/layer_._11/crossattention/output/LayerNorm/gamma:0', 'tf_encoder_decoder_model/bert/encoder/layer_._6/crossattention/output/LayerNorm/gamma:0', 'tf_encoder_decoder_model/bert/encoder/layer_._4/crossattention/output/dense/bias:0', 'tf_encoder_decoder_model/bert/encoder/layer_._0/crossattention/self/value/bias:0', 'tf_encoder_decoder_model/bert/encoder/layer_._1/crossattention/output/LayerNorm/beta:0', 'tf_encoder_decoder_model/bert/encoder/layer_._8/crossattention/self/value/kernel:0', 'tf_encoder_decoder_model/bert/encoder/layer_._9/crossattention/self/query/kernel:0', 'tf_encoder_decoder_model/bert/encoder/layer_._1/crossattention/output/dense/bias:0', 'tf_encoder_decoder_model/bert/encoder/layer_._10/crossattention/output/LayerNorm/gamma:0', 'tf_encoder_decoder_model/bert/encoder/layer_._3/crossattention/self/value/bias:0', 'tf_encoder_decoder_model/bert/encoder/layer_._0/crossattention/output/LayerNorm/gamma:0', 'tf_encoder_decoder_model/bert/encoder/layer_._6/crossattention/self/key/kernel:0', 'tf_encoder_decoder_model/bert/encoder/layer_._2/crossattention/self/value/bias:0', 'tf_encoder_decoder_model/bert/encoder/layer_._6/crossattention/self/value/kernel:0', 'tf_encoder_decoder_model/bert/encoder/layer_._5/crossattention/self/value/kernel:0', 'tf_encoder_decoder_model/bert/encoder/layer_._3/crossattention/self/key/bias:0', 'tf_encoder_decoder_model/bert/encoder/layer_._0/crossattention/self/query/kernel:0', 'tf_encoder_decoder_model/bert/encoder/layer_._7/crossattention/self/key/bias:0', 'tf_encoder_decoder_model/bert/encoder/layer_._3/crossattention/output/LayerNorm/gamma:0', 'tf_encoder_decoder_model/bert/encoder/layer_._10/crossattention/output/LayerNorm/beta:0', 'tf_encoder_decoder_model/bert/encoder/layer_._2/crossattention/self/key/kernel:0', 'tf_encoder_decoder_model/bert/encoder/layer_._5/crossattention/self/key/kernel:0', 'tf_encoder_decoder_model/bert/encoder/layer_._5/crossattention/output/dense/bias:0', 'tf_encoder_decoder_model/bert/encoder/layer_._4/crossattention/output/LayerNorm/gamma:0', 'tf_encoder_decoder_model/bert/encoder/layer_._6/crossattention/output/dense/kernel:0', 'tf_encoder_decoder_model/bert/encoder/layer_._5/crossattention/output/dense/kernel:0', 'tf_encoder_decoder_model/bert/encoder/layer_._1/crossattention/output/dense/kernel:0', 'tf_encoder_decoder_model/bert/encoder/layer_._8/crossattention/output/dense/kernel:0', 'tf_encoder_decoder_model/bert/encoder/layer_._4/crossattention/self/query/kernel:0', 'tf_encoder_decoder_model/bert/encoder/layer_._2/crossattention/self/query/kernel:0', 'tf_encoder_decoder_model/bert/encoder/layer_._8/crossattention/output/dense/bias:0', 'tf_encoder_decoder_model/bert/encoder/layer_._2/crossattention/output/LayerNorm/gamma:0', 'tf_encoder_decoder_model/bert/encoder/layer_._10/crossattention/output/dense/bias:0', 'tf_encoder_decoder_model/bert/encoder/layer_._1/crossattention/self/value/kernel:0', 'tf_encoder_decoder_model/bert/encoder/layer_._6/crossattention/self/query/kernel:0', 'tf_encoder_decoder_model/bert/encoder/layer_._7/crossattention/output/dense/bias:0', 'tf_encoder_decoder_model/bert/encoder/layer_._5/crossattention/self/value/bias:0', 'tf_encoder_decoder_model/bert/encoder/layer_._0/crossattention/output/dense/kernel:0', 'tf_encoder_decoder_model/bert/encoder/layer_._2/crossattention/output/dense/kernel:0', 'tf_encoder_decoder_model/bert/encoder/layer_._0/crossattention/self/key/bias:0', 'tf_encoder_decoder_model/bert/encoder/layer_._11/crossattention/self/query/kernel:0', 'tf_encoder_decoder_model/bert/encoder/layer_._11/crossattention/output/dense/bias:0', 'tf_encoder_decoder_model/bert/encoder/layer_._9/crossattention/output/LayerNorm/gamma:0', 'tf_encoder_decoder_model/bert/encoder/layer_._8/crossattention/self/query/bias:0', 'tf_encoder_decoder_model/bert/encoder/layer_._6/crossattention/self/query/bias:0', 'tf_encoder_decoder_model/bert/encoder/layer_._4/crossattention/output/dense/kernel:0', 'tf_encoder_decoder_model/bert/encoder/layer_._9/crossattention/self/key/bias:0', 'tf_encoder_decoder_model/bert/encoder/layer_._8/crossattention/self/value/bias:0', 'tf_encoder_decoder_model/bert/encoder/layer_._7/crossattention/output/LayerNorm/beta:0', 'tf_encoder_decoder_model/bert/encoder/layer_._6/crossattention/self/value/bias:0', 'tf_encoder_decoder_model/bert/encoder/layer_._3/crossattention/output/dense/bias:0', 'tf_encoder_decoder_model/bert/encoder/layer_._7/crossattention/self/key/kernel:0', 'tf_encoder_decoder_model/bert/encoder/layer_._11/crossattention/self/key/kernel:0', 'tf_encoder_decoder_model/bert/encoder/layer_._1/crossattention/self/key/bias:0', 'tf_encoder_decoder_model/bert/encoder/layer_._8/crossattention/output/LayerNorm/beta:0', 'tf_encoder_decoder_model/bert/encoder/layer_._10/crossattention/self/value/bias:0', 'tf_encoder_decoder_model/bert/encoder/layer_._2/crossattention/self/query/bias:0', 'tf_encoder_decoder_model/bert/encoder/layer_._4/crossattention/self/value/bias:0', 'tf_encoder_decoder_model/bert/encoder/layer_._2/crossattention/self/value/kernel:0', 'tf_encoder_decoder_model/bert/encoder/layer_._3/crossattention/self/value/kernel:0', 'tf_encoder_decoder_model/bert/encoder/layer_._11/crossattention/self/key/bias:0', 'tf_encoder_decoder_model/bert/encoder/layer_._1/crossattention/self/query/bias:0', 'tf_encoder_decoder_model/bert/encoder/layer_._4/crossattention/self/query/bias:0', 'tf_encoder_decoder_model/bert/encoder/layer_._4/crossattention/self/key/kernel:0', 'tf_encoder_decoder_model/bert/encoder/layer_._6/crossattention/self/key/bias:0', 'tf_encoder_decoder_model/bert/encoder/layer_._5/crossattention/self/query/kernel:0', 'tf_encoder_decoder_model/bert/encoder/layer_._3/crossattention/self/query/bias:0', 'tf_encoder_decoder_model/bert/encoder/layer_._5/crossattention/output/LayerNorm/beta:0', 'tf_encoder_decoder_model/bert/encoder/layer_._9/crossattention/self/value/kernel:0', 'tf_encoder_decoder_model/bert/encoder/layer_._3/crossattention/output/dense/kernel:0', 'tf_encoder_decoder_model/bert/encoder/layer_._3/crossattention/self/key/kernel:0', 'tf_encoder_decoder_model/bert/encoder/layer_._4/crossattention/self/value/kernel:0', 'tf_encoder_decoder_model/bert/encoder/layer_._10/crossattention/self/query/kernel:0', 'tf_encoder_decoder_model/bert/encoder/layer_._9/crossattention/output/dense/bias:0', 'tf_encoder_decoder_model/bert/encoder/layer_._8/crossattention/self/query/kernel:0', 'tf_encoder_decoder_model/bert/encoder/layer_._9/crossattention/self/key/kernel:0', 'tf_encoder_decoder_model/bert/encoder/layer_._7/crossattention/self/value/bias:0', 'tf_encoder_decoder_model/bert/encoder/layer_._4/crossattention/output/LayerNorm/beta:0', 'tf_encoder_decoder_model/bert/encoder/layer_._1/crossattention/self/query/kernel:0', 'tf_encoder_decoder_model/bert/encoder/layer_._7/crossattention/self/query/kernel:0', 'tf_encoder_decoder_model/bert/encoder/layer_._11/crossattention/self/value/kernel:0', 'tf_encoder_decoder_model/bert/encoder/layer_._11/crossattention/self/value/bias:0', 'tf_encoder_decoder_model/bert/encoder/layer_._11/crossattention/output/LayerNorm/beta:0', 'tf_encoder_decoder_model/bert/encoder/layer_._1/crossattention/self/value/bias:0', 'tf_encoder_decoder_model/bert/encoder/layer_._10/crossattention/self/value/kernel:0', 'tf_encoder_decoder_model/bert/encoder/layer_._0/crossattention/self/query/bias:0', 'tf_encoder_decoder_model/bert/encoder/layer_._7/crossattention/output/LayerNorm/gamma:0', 'tf_encoder_decoder_model/bert/encoder/layer_._6/crossattention/output/LayerNorm/beta:0', 'tf_encoder_decoder_model/bert/encoder/layer_._11/crossattention/output/dense/kernel:0', 'tf_encoder_decoder_model/bert/encoder/layer_._0/crossattention/output/dense/bias:0', 'tf_encoder_decoder_model/bert/encoder/layer_._11/crossattention/self/query/bias:0', 'tf_encoder_decoder_model/bert/encoder/layer_._9/crossattention/self/query/bias:0', 'tf_encoder_decoder_model/bert/encoder/layer_._5/crossattention/self/query/bias:0', 'tf_encoder_decoder_model/bert/encoder/layer_._9/crossattention/output/dense/kernel:0', 'tf_encoder_decoder_model/bert/encoder/layer_._1/crossattention/output/LayerNorm/gamma:0', 'tf_encoder_decoder_model/bert/encoder/layer_._10/crossattention/self/key/bias:0', 'tf_encoder_decoder_model/bert/encoder/layer_._0/crossattention/self/key/kernel:0', 'tf_encoder_decoder_model/bert/encoder/layer_._6/crossattention/output/dense/bias:0', 'tf_encoder_decoder_model/bert/encoder/layer_._8/crossattention/self/key/kernel:0', 'tf_encoder_decoder_model/bert/encoder/layer_._10/crossattention/self/query/bias:0', 'tf_encoder_decoder_model/bert/encoder/layer_._1/crossattention/self/key/kernel:0', 'tf_encoder_decoder_model/bert/encoder/layer_._10/crossattention/output/dense/kernel:0', 'tf_encoder_decoder_model/bert/encoder/layer_._2/crossattention/output/LayerNorm/beta:0']\n",
      "You should probably TRAIN this model on a down-stream task to be able to use it for predictions and inference.\n"
     ]
    }
   ],
   "source": [
    "bert2bert = TFEncoderDecoderModel.from_encoder_decoder_pretrained(\n",
    "    training_config.encoder_checkpoint, \n",
    "    training_config.decoder_checkpoint,\n",
    "    tie_encoder_decoder=training_config.shared_weight\n",
    ")"
   ]
  },
  {
   "cell_type": "code",
   "execution_count": 27,
   "id": "55bf8480",
   "metadata": {},
   "outputs": [
    {
     "name": "stderr",
     "output_type": "stream",
     "text": [
      "All model checkpoint layers were used when initializing TFEncoderDecoderModel.\n",
      "\n",
      "All the layers of TFEncoderDecoderModel were initialized from the model checkpoint at bert2bert.\n",
      "If your task is similar to the task the model of the checkpoint was trained on, you can already use TFEncoderDecoderModel for predictions without further training.\n"
     ]
    }
   ],
   "source": [
    "bert2bert.save_pretrained('bert2bert')\n",
    "bert2bert = TFEncoderDecoderModel.from_pretrained('bert2bert')"
   ]
  },
  {
   "cell_type": "code",
   "execution_count": 28,
   "id": "c414a861",
   "metadata": {},
   "outputs": [],
   "source": [
    "bert2bert.config.decoder_start_token_id = tokenizer.cls_token_id # 101\n",
    "bert2bert.config.eos_token_id = tokenizer.sep_token_id # 102 \n",
    "bert2bert.config.pad_token_id = tokenizer.pad_token_id # 0\n",
    "bert2bert.config.vocab_size = bert2bert.config.encoder.vocab_size "
   ]
  },
  {
   "cell_type": "code",
   "execution_count": 29,
   "id": "f3094043",
   "metadata": {},
   "outputs": [],
   "source": [
    "bert2bert.config.max_length = 30\n",
    "bert2bert.config.min_length = 3\n",
    "bert2bert.config.no_repeat_ngram_size = 2\n",
    "bert2bert.config.early_stopping = True\n",
    "bert2bert.config.length_penalty = 2.0\n",
    "bert2bert.config.num_beams = 4"
   ]
  },
  {
   "cell_type": "code",
   "execution_count": 33,
   "id": "60898462",
   "metadata": {},
   "outputs": [],
   "source": [
    "#rouge = datasets.load_metric('rouge')\n",
    "tf.keras.backend.clear_session()\n",
    "trainer = Trainer(model=bert2bert,\n",
    "                  loss_fn=Seq2SeqLoss(training_config.pad_token_id),\n",
    "                  optimizer=AdamWeightDecay(\n",
    "                      learning_rate=training_config.learning_rate, \n",
    "                      weight_decay_rate=0.005\n",
    "                  ),\n",
    "                  metric=None)"
   ]
  },
  {
   "cell_type": "code",
   "execution_count": 31,
   "id": "8f620988",
   "metadata": {},
   "outputs": [
    {
     "name": "stdout",
     "output_type": "stream",
     "text": [
      "Requirement already satisfied: datasets in c:\\users\\utkar_0x0wy73\\anaconda3\\lib\\site-packages (1.0.2)\n",
      "Requirement already satisfied: xxhash in c:\\users\\utkar_0x0wy73\\anaconda3\\lib\\site-packages (from datasets) (3.1.0)\n",
      "Requirement already satisfied: numpy>=1.17 in c:\\users\\utkar_0x0wy73\\anaconda3\\lib\\site-packages (from datasets) (1.21.5)\n",
      "Requirement already satisfied: tqdm>=4.27 in c:\\users\\utkar_0x0wy73\\anaconda3\\lib\\site-packages (from datasets) (4.64.0)\n",
      "Requirement already satisfied: pandas in c:\\users\\utkar_0x0wy73\\anaconda3\\lib\\site-packages (from datasets) (1.4.2)\n",
      "Requirement already satisfied: filelock in c:\\users\\utkar_0x0wy73\\anaconda3\\lib\\site-packages (from datasets) (3.6.0)\n",
      "Requirement already satisfied: pyarrow>=0.17.1 in c:\\users\\utkar_0x0wy73\\anaconda3\\lib\\site-packages (from datasets) (10.0.0)\n",
      "Requirement already satisfied: dill in c:\\users\\utkar_0x0wy73\\anaconda3\\lib\\site-packages (from datasets) (0.3.6)\n",
      "Requirement already satisfied: requests>=2.19.0 in c:\\users\\utkar_0x0wy73\\anaconda3\\lib\\site-packages (from datasets) (2.27.1)\n",
      "Requirement already satisfied: certifi>=2017.4.17 in c:\\users\\utkar_0x0wy73\\anaconda3\\lib\\site-packages (from requests>=2.19.0->datasets) (2021.10.8)\n",
      "Requirement already satisfied: urllib3<1.27,>=1.21.1 in c:\\users\\utkar_0x0wy73\\anaconda3\\lib\\site-packages (from requests>=2.19.0->datasets) (1.26.9)\n",
      "Requirement already satisfied: charset-normalizer~=2.0.0 in c:\\users\\utkar_0x0wy73\\anaconda3\\lib\\site-packages (from requests>=2.19.0->datasets) (2.0.4)\n",
      "Requirement already satisfied: idna<4,>=2.5 in c:\\users\\utkar_0x0wy73\\anaconda3\\lib\\site-packages (from requests>=2.19.0->datasets) (3.3)\n",
      "Requirement already satisfied: colorama in c:\\users\\utkar_0x0wy73\\anaconda3\\lib\\site-packages (from tqdm>=4.27->datasets) (0.4.4)\n",
      "Requirement already satisfied: pytz>=2020.1 in c:\\users\\utkar_0x0wy73\\anaconda3\\lib\\site-packages (from pandas->datasets) (2021.3)\n",
      "Requirement already satisfied: python-dateutil>=2.8.1 in c:\\users\\utkar_0x0wy73\\anaconda3\\lib\\site-packages (from pandas->datasets) (2.8.2)\n",
      "Requirement already satisfied: six>=1.5 in c:\\users\\utkar_0x0wy73\\anaconda3\\lib\\site-packages (from python-dateutil>=2.8.1->pandas->datasets) (1.16.0)\n"
     ]
    }
   ],
   "source": [
    "! pip install datasets\n"
   ]
  },
  {
   "cell_type": "code",
   "execution_count": 34,
   "id": "e83bd1d2",
   "metadata": {},
   "outputs": [
    {
     "name": "stdout",
     "output_type": "stream",
     "text": [
      "\n",
      "Epoch 1\n",
      "\n",
      "Training....\n"
     ]
    },
    {
     "data": {
      "application/vnd.jupyter.widget-view+json": {
       "model_id": "4204e8195acd4434a17d67d486a40609",
       "version_major": 2,
       "version_minor": 0
      },
      "text/plain": [
       "  0%|          | 0/4000 [00:00<?, ?it/s]"
      ]
     },
     "metadata": {},
     "output_type": "display_data"
    },
    {
     "name": "stdout",
     "output_type": "stream",
     "text": [
      "WARNING:tensorflow:Gradients do not exist for variables ['tf_encoder_decoder_model_1/encoder/bert/pooler/dense/kernel:0', 'tf_encoder_decoder_model_1/encoder/bert/pooler/dense/bias:0'] when minimizing the loss. If you're using `model.compile()`, did you forget to provide a `loss` argument?\n",
      "WARNING:tensorflow:Gradients do not exist for variables ['tf_encoder_decoder_model_1/encoder/bert/pooler/dense/kernel:0', 'tf_encoder_decoder_model_1/encoder/bert/pooler/dense/bias:0'] when minimizing the loss. If you're using `model.compile()`, did you forget to provide a `loss` argument?\n",
      "Training loss for one batch at step 0: 10.633999824523926\n"
     ]
    },
    {
     "ename": "KeyboardInterrupt",
     "evalue": "",
     "output_type": "error",
     "traceback": [
      "\u001b[1;31m---------------------------------------------------------------------------\u001b[0m",
      "\u001b[1;31mKeyboardInterrupt\u001b[0m                         Traceback (most recent call last)",
      "Input \u001b[1;32mIn [34]\u001b[0m, in \u001b[0;36m<cell line: 1>\u001b[1;34m()\u001b[0m\n\u001b[0;32m      3\u001b[0m \u001b[38;5;28mprint\u001b[39m(\u001b[38;5;124m'\u001b[39m\u001b[38;5;124mTraining....\u001b[39m\u001b[38;5;124m'\u001b[39m)\n\u001b[0;32m      4\u001b[0m \u001b[38;5;28;01mfor\u001b[39;00m step,batched_input \u001b[38;5;129;01min\u001b[39;00m \u001b[38;5;28menumerate\u001b[39m(tqdm(train_dataset)):\n\u001b[1;32m----> 5\u001b[0m     loss \u001b[38;5;241m=\u001b[39m \u001b[43mtrainer\u001b[49m\u001b[38;5;241;43m.\u001b[39;49m\u001b[43mtrain_step\u001b[49m\u001b[43m(\u001b[49m\u001b[43mbatched_input\u001b[49m\u001b[43m)\u001b[49m\n\u001b[0;32m      6\u001b[0m     till_now_loss \u001b[38;5;241m=\u001b[39m trainer\u001b[38;5;241m.\u001b[39mloss_tracker\u001b[38;5;241m.\u001b[39mresult()\n\u001b[0;32m      7\u001b[0m     \u001b[38;5;28;01mif\u001b[39;00m step\u001b[38;5;241m%\u001b[39m\u001b[38;5;241m200\u001b[39m \u001b[38;5;241m==\u001b[39m \u001b[38;5;241m0\u001b[39m:\n",
      "File \u001b[1;32m~\\anaconda3\\lib\\site-packages\\tensorflow\\python\\util\\traceback_utils.py:150\u001b[0m, in \u001b[0;36mfilter_traceback.<locals>.error_handler\u001b[1;34m(*args, **kwargs)\u001b[0m\n\u001b[0;32m    148\u001b[0m filtered_tb \u001b[38;5;241m=\u001b[39m \u001b[38;5;28;01mNone\u001b[39;00m\n\u001b[0;32m    149\u001b[0m \u001b[38;5;28;01mtry\u001b[39;00m:\n\u001b[1;32m--> 150\u001b[0m   \u001b[38;5;28;01mreturn\u001b[39;00m fn(\u001b[38;5;241m*\u001b[39margs, \u001b[38;5;241m*\u001b[39m\u001b[38;5;241m*\u001b[39mkwargs)\n\u001b[0;32m    151\u001b[0m \u001b[38;5;28;01mexcept\u001b[39;00m \u001b[38;5;167;01mException\u001b[39;00m \u001b[38;5;28;01mas\u001b[39;00m e:\n\u001b[0;32m    152\u001b[0m   filtered_tb \u001b[38;5;241m=\u001b[39m _process_traceback_frames(e\u001b[38;5;241m.\u001b[39m__traceback__)\n",
      "File \u001b[1;32m~\\anaconda3\\lib\\site-packages\\tensorflow\\python\\eager\\def_function.py:915\u001b[0m, in \u001b[0;36mFunction.__call__\u001b[1;34m(self, *args, **kwds)\u001b[0m\n\u001b[0;32m    912\u001b[0m compiler \u001b[38;5;241m=\u001b[39m \u001b[38;5;124m\"\u001b[39m\u001b[38;5;124mxla\u001b[39m\u001b[38;5;124m\"\u001b[39m \u001b[38;5;28;01mif\u001b[39;00m \u001b[38;5;28mself\u001b[39m\u001b[38;5;241m.\u001b[39m_jit_compile \u001b[38;5;28;01melse\u001b[39;00m \u001b[38;5;124m\"\u001b[39m\u001b[38;5;124mnonXla\u001b[39m\u001b[38;5;124m\"\u001b[39m\n\u001b[0;32m    914\u001b[0m \u001b[38;5;28;01mwith\u001b[39;00m OptionalXlaContext(\u001b[38;5;28mself\u001b[39m\u001b[38;5;241m.\u001b[39m_jit_compile):\n\u001b[1;32m--> 915\u001b[0m   result \u001b[38;5;241m=\u001b[39m \u001b[38;5;28mself\u001b[39m\u001b[38;5;241m.\u001b[39m_call(\u001b[38;5;241m*\u001b[39margs, \u001b[38;5;241m*\u001b[39m\u001b[38;5;241m*\u001b[39mkwds)\n\u001b[0;32m    917\u001b[0m new_tracing_count \u001b[38;5;241m=\u001b[39m \u001b[38;5;28mself\u001b[39m\u001b[38;5;241m.\u001b[39mexperimental_get_tracing_count()\n\u001b[0;32m    918\u001b[0m without_tracing \u001b[38;5;241m=\u001b[39m (tracing_count \u001b[38;5;241m==\u001b[39m new_tracing_count)\n",
      "File \u001b[1;32m~\\anaconda3\\lib\\site-packages\\tensorflow\\python\\eager\\def_function.py:947\u001b[0m, in \u001b[0;36mFunction._call\u001b[1;34m(self, *args, **kwds)\u001b[0m\n\u001b[0;32m    944\u001b[0m   \u001b[38;5;28mself\u001b[39m\u001b[38;5;241m.\u001b[39m_lock\u001b[38;5;241m.\u001b[39mrelease()\n\u001b[0;32m    945\u001b[0m   \u001b[38;5;66;03m# In this case we have created variables on the first call, so we run the\u001b[39;00m\n\u001b[0;32m    946\u001b[0m   \u001b[38;5;66;03m# defunned version which is guaranteed to never create variables.\u001b[39;00m\n\u001b[1;32m--> 947\u001b[0m   \u001b[38;5;28;01mreturn\u001b[39;00m \u001b[38;5;28mself\u001b[39m\u001b[38;5;241m.\u001b[39m_stateless_fn(\u001b[38;5;241m*\u001b[39margs, \u001b[38;5;241m*\u001b[39m\u001b[38;5;241m*\u001b[39mkwds)  \u001b[38;5;66;03m# pylint: disable=not-callable\u001b[39;00m\n\u001b[0;32m    948\u001b[0m \u001b[38;5;28;01melif\u001b[39;00m \u001b[38;5;28mself\u001b[39m\u001b[38;5;241m.\u001b[39m_stateful_fn \u001b[38;5;129;01mis\u001b[39;00m \u001b[38;5;129;01mnot\u001b[39;00m \u001b[38;5;28;01mNone\u001b[39;00m:\n\u001b[0;32m    949\u001b[0m   \u001b[38;5;66;03m# Release the lock early so that multiple threads can perform the call\u001b[39;00m\n\u001b[0;32m    950\u001b[0m   \u001b[38;5;66;03m# in parallel.\u001b[39;00m\n\u001b[0;32m    951\u001b[0m   \u001b[38;5;28mself\u001b[39m\u001b[38;5;241m.\u001b[39m_lock\u001b[38;5;241m.\u001b[39mrelease()\n",
      "File \u001b[1;32m~\\anaconda3\\lib\\site-packages\\tensorflow\\python\\eager\\function.py:2496\u001b[0m, in \u001b[0;36mFunction.__call__\u001b[1;34m(self, *args, **kwargs)\u001b[0m\n\u001b[0;32m   2493\u001b[0m \u001b[38;5;28;01mwith\u001b[39;00m \u001b[38;5;28mself\u001b[39m\u001b[38;5;241m.\u001b[39m_lock:\n\u001b[0;32m   2494\u001b[0m   (graph_function,\n\u001b[0;32m   2495\u001b[0m    filtered_flat_args) \u001b[38;5;241m=\u001b[39m \u001b[38;5;28mself\u001b[39m\u001b[38;5;241m.\u001b[39m_maybe_define_function(args, kwargs)\n\u001b[1;32m-> 2496\u001b[0m \u001b[38;5;28;01mreturn\u001b[39;00m \u001b[43mgraph_function\u001b[49m\u001b[38;5;241;43m.\u001b[39;49m\u001b[43m_call_flat\u001b[49m\u001b[43m(\u001b[49m\n\u001b[0;32m   2497\u001b[0m \u001b[43m    \u001b[49m\u001b[43mfiltered_flat_args\u001b[49m\u001b[43m,\u001b[49m\u001b[43m \u001b[49m\u001b[43mcaptured_inputs\u001b[49m\u001b[38;5;241;43m=\u001b[39;49m\u001b[43mgraph_function\u001b[49m\u001b[38;5;241;43m.\u001b[39;49m\u001b[43mcaptured_inputs\u001b[49m\u001b[43m)\u001b[49m\n",
      "File \u001b[1;32m~\\anaconda3\\lib\\site-packages\\tensorflow\\python\\eager\\function.py:1862\u001b[0m, in \u001b[0;36mConcreteFunction._call_flat\u001b[1;34m(self, args, captured_inputs, cancellation_manager)\u001b[0m\n\u001b[0;32m   1858\u001b[0m possible_gradient_type \u001b[38;5;241m=\u001b[39m gradients_util\u001b[38;5;241m.\u001b[39mPossibleTapeGradientTypes(args)\n\u001b[0;32m   1859\u001b[0m \u001b[38;5;28;01mif\u001b[39;00m (possible_gradient_type \u001b[38;5;241m==\u001b[39m gradients_util\u001b[38;5;241m.\u001b[39mPOSSIBLE_GRADIENT_TYPES_NONE\n\u001b[0;32m   1860\u001b[0m     \u001b[38;5;129;01mand\u001b[39;00m executing_eagerly):\n\u001b[0;32m   1861\u001b[0m   \u001b[38;5;66;03m# No tape is watching; skip to running the function.\u001b[39;00m\n\u001b[1;32m-> 1862\u001b[0m   \u001b[38;5;28;01mreturn\u001b[39;00m \u001b[38;5;28mself\u001b[39m\u001b[38;5;241m.\u001b[39m_build_call_outputs(\u001b[38;5;28;43mself\u001b[39;49m\u001b[38;5;241;43m.\u001b[39;49m\u001b[43m_inference_function\u001b[49m\u001b[38;5;241;43m.\u001b[39;49m\u001b[43mcall\u001b[49m\u001b[43m(\u001b[49m\n\u001b[0;32m   1863\u001b[0m \u001b[43m      \u001b[49m\u001b[43mctx\u001b[49m\u001b[43m,\u001b[49m\u001b[43m \u001b[49m\u001b[43margs\u001b[49m\u001b[43m,\u001b[49m\u001b[43m \u001b[49m\u001b[43mcancellation_manager\u001b[49m\u001b[38;5;241;43m=\u001b[39;49m\u001b[43mcancellation_manager\u001b[49m\u001b[43m)\u001b[49m)\n\u001b[0;32m   1864\u001b[0m forward_backward \u001b[38;5;241m=\u001b[39m \u001b[38;5;28mself\u001b[39m\u001b[38;5;241m.\u001b[39m_select_forward_and_backward_functions(\n\u001b[0;32m   1865\u001b[0m     args,\n\u001b[0;32m   1866\u001b[0m     possible_gradient_type,\n\u001b[0;32m   1867\u001b[0m     executing_eagerly)\n\u001b[0;32m   1868\u001b[0m forward_function, args_with_tangents \u001b[38;5;241m=\u001b[39m forward_backward\u001b[38;5;241m.\u001b[39mforward()\n",
      "File \u001b[1;32m~\\anaconda3\\lib\\site-packages\\tensorflow\\python\\eager\\function.py:499\u001b[0m, in \u001b[0;36m_EagerDefinedFunction.call\u001b[1;34m(self, ctx, args, cancellation_manager)\u001b[0m\n\u001b[0;32m    497\u001b[0m \u001b[38;5;28;01mwith\u001b[39;00m _InterpolateFunctionError(\u001b[38;5;28mself\u001b[39m):\n\u001b[0;32m    498\u001b[0m   \u001b[38;5;28;01mif\u001b[39;00m cancellation_manager \u001b[38;5;129;01mis\u001b[39;00m \u001b[38;5;28;01mNone\u001b[39;00m:\n\u001b[1;32m--> 499\u001b[0m     outputs \u001b[38;5;241m=\u001b[39m \u001b[43mexecute\u001b[49m\u001b[38;5;241;43m.\u001b[39;49m\u001b[43mexecute\u001b[49m\u001b[43m(\u001b[49m\n\u001b[0;32m    500\u001b[0m \u001b[43m        \u001b[49m\u001b[38;5;28;43mstr\u001b[39;49m\u001b[43m(\u001b[49m\u001b[38;5;28;43mself\u001b[39;49m\u001b[38;5;241;43m.\u001b[39;49m\u001b[43msignature\u001b[49m\u001b[38;5;241;43m.\u001b[39;49m\u001b[43mname\u001b[49m\u001b[43m)\u001b[49m\u001b[43m,\u001b[49m\n\u001b[0;32m    501\u001b[0m \u001b[43m        \u001b[49m\u001b[43mnum_outputs\u001b[49m\u001b[38;5;241;43m=\u001b[39;49m\u001b[38;5;28;43mself\u001b[39;49m\u001b[38;5;241;43m.\u001b[39;49m\u001b[43m_num_outputs\u001b[49m\u001b[43m,\u001b[49m\n\u001b[0;32m    502\u001b[0m \u001b[43m        \u001b[49m\u001b[43minputs\u001b[49m\u001b[38;5;241;43m=\u001b[39;49m\u001b[43margs\u001b[49m\u001b[43m,\u001b[49m\n\u001b[0;32m    503\u001b[0m \u001b[43m        \u001b[49m\u001b[43mattrs\u001b[49m\u001b[38;5;241;43m=\u001b[39;49m\u001b[43mattrs\u001b[49m\u001b[43m,\u001b[49m\n\u001b[0;32m    504\u001b[0m \u001b[43m        \u001b[49m\u001b[43mctx\u001b[49m\u001b[38;5;241;43m=\u001b[39;49m\u001b[43mctx\u001b[49m\u001b[43m)\u001b[49m\n\u001b[0;32m    505\u001b[0m   \u001b[38;5;28;01melse\u001b[39;00m:\n\u001b[0;32m    506\u001b[0m     outputs \u001b[38;5;241m=\u001b[39m execute\u001b[38;5;241m.\u001b[39mexecute_with_cancellation(\n\u001b[0;32m    507\u001b[0m         \u001b[38;5;28mstr\u001b[39m(\u001b[38;5;28mself\u001b[39m\u001b[38;5;241m.\u001b[39msignature\u001b[38;5;241m.\u001b[39mname),\n\u001b[0;32m    508\u001b[0m         num_outputs\u001b[38;5;241m=\u001b[39m\u001b[38;5;28mself\u001b[39m\u001b[38;5;241m.\u001b[39m_num_outputs,\n\u001b[1;32m   (...)\u001b[0m\n\u001b[0;32m    511\u001b[0m         ctx\u001b[38;5;241m=\u001b[39mctx,\n\u001b[0;32m    512\u001b[0m         cancellation_manager\u001b[38;5;241m=\u001b[39mcancellation_manager)\n",
      "File \u001b[1;32m~\\anaconda3\\lib\\site-packages\\tensorflow\\python\\eager\\execute.py:54\u001b[0m, in \u001b[0;36mquick_execute\u001b[1;34m(op_name, num_outputs, inputs, attrs, ctx, name)\u001b[0m\n\u001b[0;32m     52\u001b[0m \u001b[38;5;28;01mtry\u001b[39;00m:\n\u001b[0;32m     53\u001b[0m   ctx\u001b[38;5;241m.\u001b[39mensure_initialized()\n\u001b[1;32m---> 54\u001b[0m   tensors \u001b[38;5;241m=\u001b[39m \u001b[43mpywrap_tfe\u001b[49m\u001b[38;5;241;43m.\u001b[39;49m\u001b[43mTFE_Py_Execute\u001b[49m\u001b[43m(\u001b[49m\u001b[43mctx\u001b[49m\u001b[38;5;241;43m.\u001b[39;49m\u001b[43m_handle\u001b[49m\u001b[43m,\u001b[49m\u001b[43m \u001b[49m\u001b[43mdevice_name\u001b[49m\u001b[43m,\u001b[49m\u001b[43m \u001b[49m\u001b[43mop_name\u001b[49m\u001b[43m,\u001b[49m\n\u001b[0;32m     55\u001b[0m \u001b[43m                                      \u001b[49m\u001b[43minputs\u001b[49m\u001b[43m,\u001b[49m\u001b[43m \u001b[49m\u001b[43mattrs\u001b[49m\u001b[43m,\u001b[49m\u001b[43m \u001b[49m\u001b[43mnum_outputs\u001b[49m\u001b[43m)\u001b[49m\n\u001b[0;32m     56\u001b[0m \u001b[38;5;28;01mexcept\u001b[39;00m core\u001b[38;5;241m.\u001b[39m_NotOkStatusException \u001b[38;5;28;01mas\u001b[39;00m e:\n\u001b[0;32m     57\u001b[0m   \u001b[38;5;28;01mif\u001b[39;00m name \u001b[38;5;129;01mis\u001b[39;00m \u001b[38;5;129;01mnot\u001b[39;00m \u001b[38;5;28;01mNone\u001b[39;00m:\n",
      "\u001b[1;31mKeyboardInterrupt\u001b[0m: "
     ]
    }
   ],
   "source": [
    "for epoch in range(training_config.nb_epoch):\n",
    "    print(f'\\nEpoch {epoch+1}\\n')\n",
    "    print('Training....')\n",
    "    for step,batched_input in enumerate(tqdm(train_dataset)):\n",
    "        loss = trainer.train_step(batched_input)\n",
    "        till_now_loss = trainer.loss_tracker.result()\n",
    "        if step%200 == 0:\n",
    "            print(f'Training loss for one batch at step {step}: {round(till_now_loss,3)}') \n",
    "    trainer.loss_tracker.reset_states()\n",
    "     print('Validating....')\n",
    "    val_measures = {'rouge precision':0, 'rouge recall':0, 'rouge f1': 0}\n",
    "    for step, batched_input in enumerate(tqdm(val_dataset)):\n",
    "        val_loss = trainer.val_step(batched_input)\n",
    "#         pred_str, gold_str = generate_summary(bert2bert, \n",
    "#                                               tokenizer, \n",
    "#                                               batched_input)\n",
    "#         rouge_output = rouge.compute(predictions=pred_str,\n",
    "#                                      references=gold_str,\n",
    "#                                      rouge_types=['rouge2'])['rouge2'].mid\n",
    "#         val_measures['rouge precision'] += rouge_output.precision / len(val_dataset)\n",
    "#         val_measures['rouge recall'] += rouge_output.recall / len(val_dataset)\n",
    "#         val_measures['rouge f1'] += rouge_output.fmeasure / len(val_dataset)\n",
    "    till_now_val_loss = trainer.loss_tracker.result()\n",
    "    print(f'Validation loss: {round(till_now_val_loss,3)}')\n",
    "    bert2bert.save_pretrained(\n",
    "        f'bert2bert-Checkpoint-epoch{epoch+1}-loss{round(till_now_val_loss,3)}'\n",
    "    )\n",
    "#     for name, value in val_measures.items():\n",
    "#         print(f'Validation {name}: {value}')\n",
    "    trainer.loss_tracker.reset_states()"
   ]
  },
  {
   "cell_type": "code",
   "execution_count": null,
   "id": "a4bb7c4f",
   "metadata": {},
   "outputs": [],
   "source": [
    "# val0 = list(val_dataset.as_numpy_iterator())[0]\n",
    "for step, batched_input in enumerate(tqdm(val_dataset)):\n",
    "    pred_str, gold_str, input_strs = batched_generate_summary(\n",
    "        trained_bert2bert, \n",
    "        tokenizer, \n",
    "        batched_input\n",
    "    )\n",
    "    rouge_output = rouge.compute(\n",
    "        predictions=pred_str,\n",
    "        references=gold_str,\n",
    "        rouge_types=[\"rouge1\"]\n",
    "    )\n",
    "    print('Rouge report: ')\n",
    "    print(rouge_output['rouge1'].mid)\n",
    "    for p_str,g_str,in_str in zip(pred_str, gold_str, input_strs):\n",
    "        print('='*100)\n",
    "        print('Review: ' + in_str)\n",
    "        print('Summary: ' + g_str)\n",
    "        print('Generated: ' + p_str)\n",
    "    \n",
    "    break"
   ]
  },
  {
   "cell_type": "code",
   "execution_count": null,
   "id": "8a9d5117",
   "metadata": {},
   "outputs": [],
   "source": [
    "df_reviews_test = df_reviews.copy()\n",
    "df_reviews_test = df_reviews_test.iloc[40000:41000, :]\n",
    "test_reviews = df_reviews_test['Text'].values\n",
    "test_sums = df_reviews_test['Summary'].values\n",
    "\n",
    "test_dataloader = DataLoader(test_reviews, test_sums, **dataloader_args)\n",
    "test_dataset = test_dataloader.list_to_tensor_dataset(test_paras, test_sums)\n",
    "test_dataset = test_dataset.batch(training_config.batch_size)\n",
    "pred_strs = []\n",
    "gold_strs = []\n",
    "\n",
    "for batched_input in tqdm(test_dataset):\n",
    "    pred_str, gold_str, _ = batched_generate_summary(\n",
    "        trained_bert2bert, \n",
    "        tokenizer, \n",
    "        batched_input\n",
    "    )\n",
    "    pred_strs.extend(pred_str)\n",
    "    gold_strs.extend(gold_str)\n",
    "    \n",
    "rouge_output = rouge.compute(\n",
    "    predictions=pred_strs,\n",
    "    references=gold_strs,\n",
    "    rouge_types=[\"rouge1\"]\n",
    ")"
   ]
  },
  {
   "cell_type": "code",
   "execution_count": null,
   "id": "0fff03cd",
   "metadata": {},
   "outputs": [],
   "source": []
  },
  {
   "cell_type": "code",
   "execution_count": null,
   "id": "8a3bf046",
   "metadata": {},
   "outputs": [],
   "source": []
  },
  {
   "cell_type": "code",
   "execution_count": null,
   "id": "595ea8a5",
   "metadata": {},
   "outputs": [],
   "source": []
  },
  {
   "cell_type": "code",
   "execution_count": null,
   "id": "620b8993",
   "metadata": {},
   "outputs": [],
   "source": []
  },
  {
   "cell_type": "code",
   "execution_count": null,
   "id": "480c1d57",
   "metadata": {},
   "outputs": [],
   "source": []
  },
  {
   "cell_type": "code",
   "execution_count": null,
   "id": "f2791073",
   "metadata": {},
   "outputs": [],
   "source": []
  },
  {
   "cell_type": "code",
   "execution_count": null,
   "id": "de9c10d3",
   "metadata": {},
   "outputs": [],
   "source": []
  },
  {
   "cell_type": "code",
   "execution_count": null,
   "id": "0081b7b7",
   "metadata": {},
   "outputs": [],
   "source": []
  },
  {
   "cell_type": "code",
   "execution_count": null,
   "id": "f8868709",
   "metadata": {},
   "outputs": [],
   "source": []
  }
 ],
 "metadata": {
  "kernelspec": {
   "display_name": "Python 3 (ipykernel)",
   "language": "python",
   "name": "python3"
  },
  "language_info": {
   "codemirror_mode": {
    "name": "ipython",
    "version": 3
   },
   "file_extension": ".py",
   "mimetype": "text/x-python",
   "name": "python",
   "nbconvert_exporter": "python",
   "pygments_lexer": "ipython3",
   "version": "3.9.12"
  }
 },
 "nbformat": 4,
 "nbformat_minor": 5
}
